{
 "cells": [
  {
   "cell_type": "code",
   "execution_count": null,
   "metadata": {
    "_cell_guid": "b1076dfc-b9ad-4769-8c92-a6c4dae69d19",
    "_uuid": "8f2839f25d086af736a60e9eeb907d3b93b6e0e5",
    "execution": {
     "iopub.execute_input": "2025-05-27T09:33:23.406431Z",
     "iopub.status.busy": "2025-05-27T09:33:23.40615Z",
     "iopub.status.idle": "2025-05-27T09:34:05.718785Z",
     "shell.execute_reply": "2025-05-27T09:34:05.718058Z",
     "shell.execute_reply.started": "2025-05-27T09:33:23.4064Z"
    },
    "trusted": true
   },
   "outputs": [],
   "source": [
    "!pip install -U autogluon > /dev/null\n",
    "\n",
    "from autogluon.tabular import TabularDataset, TabularPredictor\n",
    "import numpy as np\n",
    "import pandas as pd\n",
    "import lightgbm as lgb\n",
    "from sklearn.model_selection import train_test_split\n",
    "from sklearn.metrics import roc_auc_score\n",
    "import matplotlib.pyplot as plt\n",
    "from sklearn.model_selection import StratifiedKFold\n",
    "from sklearn.feature_extraction.text import TfidfVectorizer\n",
    "from sklearn.decomposition import TruncatedSVD\n",
    "from catboost import CatBoostClassifier, Pool\n",
    "from catboost.utils import eval_metric\n",
    "\n",
    "from sklearn.model_selection import StratifiedKFold\n",
    "from sklearn.metrics import roc_auc_score\n",
    "import matplotlib.pyplot as plt\n",
    "\n",
    "import warnings\n",
    "warnings.filterwarnings(\"ignore\")"
   ]
  },
  {
   "cell_type": "markdown",
   "metadata": {},
   "source": [
    "## Parameters"
   ]
  },
  {
   "cell_type": "code",
   "execution_count": null,
   "metadata": {
    "execution": {
     "iopub.execute_input": "2025-05-27T09:34:05.720282Z",
     "iopub.status.busy": "2025-05-27T09:34:05.719705Z",
     "iopub.status.idle": "2025-05-27T09:34:05.72443Z",
     "shell.execute_reply": "2025-05-27T09:34:05.723501Z",
     "shell.execute_reply.started": "2025-05-27T09:34:05.720246Z"
    },
    "trusted": true
   },
   "outputs": [],
   "source": [
    "RAND_VAL=42\n",
    "num_folds=5 ## Number of folds\n",
    "n_est=3500 ## Number of estimators"
   ]
  },
  {
   "cell_type": "markdown",
   "metadata": {},
   "source": [
    "## Read Train and Test Files"
   ]
  },
  {
   "cell_type": "code",
   "execution_count": null,
   "metadata": {
    "execution": {
     "iopub.execute_input": "2025-05-27T09:34:05.72665Z",
     "iopub.status.busy": "2025-05-27T09:34:05.726325Z",
     "iopub.status.idle": "2025-05-27T09:34:06.154812Z",
     "shell.execute_reply": "2025-05-27T09:34:06.154076Z",
     "shell.execute_reply.started": "2025-05-27T09:34:05.726628Z"
    },
    "trusted": true
   },
   "outputs": [],
   "source": [
    "df_train = pd.read_csv('/kaggle/input/playground-series-s4e1/train.csv')\n",
    "print(df_train.columns)\n",
    "df_train.head()"
   ]
  },
  {
   "cell_type": "code",
   "execution_count": null,
   "metadata": {
    "execution": {
     "iopub.execute_input": "2025-05-27T10:23:02.766336Z",
     "iopub.status.busy": "2025-05-27T10:23:02.76603Z",
     "iopub.status.idle": "2025-05-27T10:23:02.771681Z",
     "shell.execute_reply": "2025-05-27T10:23:02.770866Z",
     "shell.execute_reply.started": "2025-05-27T10:23:02.766313Z"
    },
    "trusted": true
   },
   "outputs": [],
   "source": [
    "df_train.shape"
   ]
  },
  {
   "cell_type": "code",
   "execution_count": null,
   "metadata": {
    "execution": {
     "iopub.execute_input": "2025-05-27T09:34:06.156231Z",
     "iopub.status.busy": "2025-05-27T09:34:06.155947Z",
     "iopub.status.idle": "2025-05-27T09:34:06.394382Z",
     "shell.execute_reply": "2025-05-27T09:34:06.393621Z",
     "shell.execute_reply.started": "2025-05-27T09:34:06.156208Z"
    },
    "trusted": true
   },
   "outputs": [],
   "source": [
    "df_test = pd.read_csv('/kaggle/input/playground-series-s4e1/test.csv')\n",
    "df_test_ov = df_test.copy()\n",
    "df_test.head()"
   ]
  },
  {
   "cell_type": "code",
   "execution_count": null,
   "metadata": {
    "execution": {
     "iopub.execute_input": "2025-05-27T10:21:15.143231Z",
     "iopub.status.busy": "2025-05-27T10:21:15.142928Z",
     "iopub.status.idle": "2025-05-27T10:21:15.554776Z",
     "shell.execute_reply": "2025-05-27T10:21:15.553933Z",
     "shell.execute_reply.started": "2025-05-27T10:21:15.143211Z"
    },
    "trusted": true
   },
   "outputs": [],
   "source": [
    "# 1) Thư viện\n",
    "import pandas as pd\n",
    "import matplotlib.pyplot as plt\n",
    "import seaborn as sns          # chỉ dùng để set style, không bắt buộc\n",
    "\n",
    "# 2) Đọc dữ liệu --------------------------------------------------------------\n",
    "# Thay đường dẫn này bằng tệp của bạn (.csv, .parquet… tuỳ ý)\n",
    "df = pd.read_csv('/kaggle/input/playground-series-s4e1/train.csv')\n",
    "\n",
    "# 3) Tạo cột Stays (nếu chưa có) ---------------------------------------------\n",
    "#   - Quy ước phổ biến: Exited = 1  → khách RỜI ĐI\n",
    "#                       Exited = 0  → khách Ở LẠI\n",
    "#   - Khi đó, Stays = 1 – Exited\n",
    "if 'Stays' not in df.columns:\n",
    "    df['Stays'] = 1 - df['Exited']\n",
    "\n",
    "# 4) Đếm số mẫu của mỗi lớp ----------------------------------------------------\n",
    "# Với hai cột nhị phân 0/1, tổng (sum) chính là số bản ghi có giá trị 1\n",
    "class_counts = df[['Stays', 'Exited']].sum()\n",
    "\n",
    "print('Class counts:')\n",
    "print(class_counts)            # để bạn kiểm tra nhanh trên console\n",
    "\n",
    "# 5) Vẽ biểu đồ ---------------------------------------------------------------\n",
    "sns.set_style('whitegrid')     # tuỳ chọn: nền sáng + lưới mảnh\n",
    "plt.figure(figsize=(6,4))\n",
    "\n",
    "# Ta giữ đúng hai màu như ảnh mẫu: xanh lá & đỏ\n",
    "class_counts.plot(kind='bar',\n",
    "                  color=['#148200', '#d62728'],  # xanh lá, đỏ\n",
    "                  edgecolor='black')\n",
    "\n",
    "plt.ylabel('Count')\n",
    "plt.xticks(rotation=0)\n",
    "plt.title('Label distribution: Stays vs Exited', pad=12)\n",
    "plt.tight_layout()\n",
    "plt.show()\n"
   ]
  },
  {
   "cell_type": "code",
   "execution_count": null,
   "metadata": {
    "execution": {
     "iopub.execute_input": "2025-05-27T10:21:19.94069Z",
     "iopub.status.busy": "2025-05-27T10:21:19.940329Z",
     "iopub.status.idle": "2025-05-27T10:21:22.872213Z",
     "shell.execute_reply": "2025-05-27T10:21:22.871252Z",
     "shell.execute_reply.started": "2025-05-27T10:21:19.940663Z"
    },
    "trusted": true
   },
   "outputs": [],
   "source": [
    "import pandas as pd\n",
    "import matplotlib.pyplot as plt\n",
    "import math\n",
    "\n",
    "# Nếu df đã tồn tại thì bỏ bước đọc file\n",
    "# df = pd.read_csv(\"path/to/your_dataset.csv\")\n",
    "\n",
    "# ─── THIẾT LẬP DANH SÁCH CỘT MUỐN PLOT ───────────────────────────────────────\n",
    "cols_to_plot = [\n",
    "    \"CreditScore\", \"Age\", \"Tenure\",\n",
    "    \"Balance\", \"NumOfProducts\", \"HasCrCard\",\n",
    "    \"IsActiveMember\", \"EstimatedSalary\", \"Exited\"\n",
    "]\n",
    "\n",
    "# Kiểm tra nhanh xem thiếu cột nào không\n",
    "missing = [c for c in cols_to_plot if c not in df.columns]\n",
    "if missing:\n",
    "    raise KeyError(f\"Các cột sau chưa có trong DataFrame: {missing}\")\n",
    "\n",
    "# ─── VẼ LƯỚI HISTOGRAM ───────────────────────────────────────────────────────\n",
    "n_cols = 3                      # số cột trong grid\n",
    "n_rows = math.ceil(len(cols_to_plot) / n_cols)\n",
    "fig, axes = plt.subplots(n_rows, n_cols, figsize=(n_cols*4, n_rows*3))\n",
    "axes = axes.flatten()           # chuyển về 1-D để index thuận tiện\n",
    "\n",
    "for idx, col in enumerate(cols_to_plot):\n",
    "    ax = axes[idx]\n",
    "    # Continuous hay categorical đều dùng .hist() được.\n",
    "    # Thông số bins=auto để matplotlib tự tính hợp lý\n",
    "    df[col].hist(ax=ax, bins=\"auto\")\n",
    "    ax.set_title(col, fontweight=\"bold\")\n",
    "    ax.set_xlabel(\"\")           # bớt rối\n",
    "    ax.set_ylabel(\"\")           # bớt rối\n",
    "\n",
    "# Nếu grid thừa ô (khi tổng cột < n_rows*n_cols) ⇒ ẩn các ô trống\n",
    "for j in range(len(cols_to_plot), len(axes)):\n",
    "    fig.delaxes(axes[j])\n",
    "\n",
    "fig.suptitle(\"Variables distribution histogram grid\", fontsize=14, y=1.02)\n",
    "plt.tight_layout()\n",
    "plt.show()\n"
   ]
  },
  {
   "cell_type": "code",
   "execution_count": null,
   "metadata": {
    "execution": {
     "iopub.execute_input": "2025-05-27T10:21:24.087434Z",
     "iopub.status.busy": "2025-05-27T10:21:24.08711Z",
     "iopub.status.idle": "2025-05-27T10:21:24.272354Z",
     "shell.execute_reply": "2025-05-27T10:21:24.271636Z",
     "shell.execute_reply.started": "2025-05-27T10:21:24.087408Z"
    },
    "trusted": true
   },
   "outputs": [],
   "source": [
    "# -----------------------------------------------------------\n",
    "#  Đếm & vẽ phân bố giới tính (Gender distribution)\n",
    "# -----------------------------------------------------------\n",
    "import matplotlib.pyplot as plt\n",
    "import seaborn as sns               # dùng để set style (tùy chọn)\n",
    "\n",
    "# 1) Đếm số lượng từng giới tính\n",
    "gender_counts = df['Gender'].value_counts()      # Hoặc df['Gender'].value_counts(dropna=True)\n",
    "\n",
    "print('Gender counts:')\n",
    "print(gender_counts)               # Kiểm tra nhanh trên console\n",
    "\n",
    "# 2) Vẽ biểu đồ\n",
    "sns.set_style('whitegrid')\n",
    "plt.figure(figsize=(6,4))\n",
    "\n",
    "# Màu giống hình: đỏ cho Male, xanh dương cho Female\n",
    "colors = ['#d62728', '#1f3d94']     # red, blue\n",
    "gender_counts.loc[['Male','Female']].plot(kind='bar',\n",
    "                                          color=colors,\n",
    "                                          edgecolor='black')\n",
    "\n",
    "plt.ylabel('Count')\n",
    "plt.xticks(rotation=0)\n",
    "plt.title('Gender distribution', pad=12)\n",
    "plt.tight_layout()\n",
    "plt.show()\n"
   ]
  },
  {
   "cell_type": "code",
   "execution_count": null,
   "metadata": {
    "execution": {
     "iopub.execute_input": "2025-05-27T10:21:43.706015Z",
     "iopub.status.busy": "2025-05-27T10:21:43.705729Z",
     "iopub.status.idle": "2025-05-27T10:21:46.567967Z",
     "shell.execute_reply": "2025-05-27T10:21:46.567084Z",
     "shell.execute_reply.started": "2025-05-27T10:21:43.705994Z"
    },
    "trusted": true
   },
   "outputs": [],
   "source": [
    "import pandas as pd\n",
    "import matplotlib.pyplot as plt\n",
    "import math\n",
    "\n",
    "# Nếu df đã tồn tại thì bỏ bước đọc file\n",
    "# df = pd.read_csv(\"path/to/your_dataset.csv\")\n",
    "\n",
    "# ─── THIẾT LẬP DANH SÁCH CỘT MUỐN PLOT ───────────────────────────────────────\n",
    "cols_to_plot = [\n",
    "    \"CreditScore\", \"Age\", \"Tenure\",\n",
    "    \"Balance\", \"NumOfProducts\", \"HasCrCard\",\n",
    "    \"IsActiveMember\", \"EstimatedSalary\", \"Exited\"\n",
    "]\n",
    "\n",
    "# Kiểm tra nhanh xem thiếu cột nào không\n",
    "missing = [c for c in cols_to_plot if c not in df.columns]\n",
    "if missing:\n",
    "    raise KeyError(f\"Các cột sau chưa có trong DataFrame: {missing}\")\n",
    "\n",
    "# ─── VẼ LƯỚI HISTOGRAM ───────────────────────────────────────────────────────\n",
    "n_cols = 3                      # số cột trong grid\n",
    "n_rows = math.ceil(len(cols_to_plot) / n_cols)\n",
    "fig, axes = plt.subplots(n_rows, n_cols, figsize=(n_cols*4, n_rows*3))\n",
    "axes = axes.flatten()           # chuyển về 1-D để index thuận tiện\n",
    "\n",
    "for idx, col in enumerate(cols_to_plot):\n",
    "    ax = axes[idx]\n",
    "    # Continuous hay categorical đều dùng .hist() được.\n",
    "    # Thông số bins=auto để matplotlib tự tính hợp lý\n",
    "    df[col].hist(ax=ax, bins=\"auto\")\n",
    "    ax.set_title(col, fontweight=\"bold\")\n",
    "    ax.set_xlabel(\"\")           # bớt rối\n",
    "    ax.set_ylabel(\"\")           # bớt rối\n",
    "\n",
    "# Nếu grid thừa ô (khi tổng cột < n_rows*n_cols) ⇒ ẩn các ô trống\n",
    "for j in range(len(cols_to_plot), len(axes)):\n",
    "    fig.delaxes(axes[j])\n",
    "\n",
    "fig.suptitle(\"Variables distribution histogram grid\", fontsize=14, y=1.02)\n",
    "plt.tight_layout()\n",
    "plt.show()\n"
   ]
  },
  {
   "cell_type": "code",
   "execution_count": null,
   "metadata": {
    "execution": {
     "iopub.execute_input": "2025-05-27T10:21:50.341639Z",
     "iopub.status.busy": "2025-05-27T10:21:50.341301Z",
     "iopub.status.idle": "2025-05-27T10:21:50.765492Z",
     "shell.execute_reply": "2025-05-27T10:21:50.764478Z",
     "shell.execute_reply.started": "2025-05-27T10:21:50.341612Z"
    },
    "trusted": true
   },
   "outputs": [],
   "source": [
    "# -----------------------------------------------------------\n",
    "#  Fig. 4 – Churn distribution by gender: Count & Percentage\n",
    "# -----------------------------------------------------------\n",
    "import pandas as pd\n",
    "import matplotlib.pyplot as plt\n",
    "import seaborn as sns\n",
    "\n",
    "# 1) Bảo đảm có cột Stays\n",
    "if 'Stays' not in df.columns:\n",
    "    df['Stays'] = 1 - df['Exited']          # Exited=1 → rời; Stays=1 → ở lại\n",
    "\n",
    "# 2) Tính tổng Stays/Exited theo giới tính  ------------------\n",
    "agg_counts = df.groupby('Gender')[['Stays', 'Exited']].sum()\n",
    "\n",
    "# 3) Chuyển sang phần trăm trong từng giới tính --------------\n",
    "agg_pct = agg_counts.div(agg_counts.sum(axis=1), axis=0) * 100\n",
    "\n",
    "# 4) Vẽ hai biểu đồ song song -------------------------------\n",
    "sns.set_style('whitegrid')\n",
    "fig, axes = plt.subplots(1, 2, figsize=(12, 4))\n",
    "\n",
    "colors = ['#1f77b4', '#ffd000']   # xanh dương, vàng (gần giống minh hoạ)\n",
    "\n",
    "# --- (a) Biểu đồ COUNT\n",
    "agg_counts.plot(kind='bar',\n",
    "                ax=axes[0],\n",
    "                color=colors,\n",
    "                edgecolor='black')\n",
    "axes[0].set_title('Churn Risk per Gender (Count)')\n",
    "axes[0].set_ylabel('Count')\n",
    "axes[0].set_xlabel('Gender')\n",
    "axes[0].legend(['Stays', 'Exits'], title='')\n",
    "\n",
    "# --- (b) Biểu đồ PERCENTAGE\n",
    "agg_pct.plot(kind='bar',\n",
    "             ax=axes[1],\n",
    "             color=colors,\n",
    "             edgecolor='black')\n",
    "axes[1].set_title('Churn Risk per Gender (Percentage)')\n",
    "axes[1].set_ylabel('Percentage')\n",
    "axes[1].set_xlabel('Gender')\n",
    "axes[1].legend(['Stays', 'Exits'], title='')\n",
    "\n",
    "plt.tight_layout()\n",
    "plt.show()\n"
   ]
  },
  {
   "cell_type": "code",
   "execution_count": null,
   "metadata": {
    "execution": {
     "iopub.execute_input": "2025-05-27T10:21:56.151488Z",
     "iopub.status.busy": "2025-05-27T10:21:56.151196Z",
     "iopub.status.idle": "2025-05-27T10:21:56.348706Z",
     "shell.execute_reply": "2025-05-27T10:21:56.347981Z",
     "shell.execute_reply.started": "2025-05-27T10:21:56.151466Z"
    },
    "trusted": true
   },
   "outputs": [],
   "source": [
    "# -----------------------------------------------------------\n",
    "#  Fig. 5 – Geographical distribution of customers\n",
    "# -----------------------------------------------------------\n",
    "import matplotlib.pyplot as plt\n",
    "import seaborn as sns\n",
    "\n",
    "# 1) Đếm số khách theo Geography\n",
    "geo_counts = (\n",
    "    df['Geography']\n",
    "    .value_counts()                       # đếm tất cả địa lý có trong cột\n",
    "    .loc[['France', 'Germany', 'Spain']] # giữ đúng thứ tự mong muốn\n",
    ")\n",
    "\n",
    "print('Customer counts by geography:')\n",
    "print(geo_counts)\n",
    "\n",
    "# 2) Vẽ biểu đồ\n",
    "sns.set_style('whitegrid')\n",
    "plt.figure(figsize=(7,4))\n",
    "\n",
    "# Ba màu giống minh hoạ: tím → Pháp, cam → Đức, xanh ngọc → Tây Ban Nha\n",
    "colors = ['#7b007b', '#f5a623', '#007f7f']   # purple, orange, teal\n",
    "\n",
    "geo_counts.plot(kind='bar',\n",
    "                color=colors,\n",
    "                edgecolor='black')\n",
    "\n",
    "plt.ylabel('Count')\n",
    "plt.xlabel('Geography')\n",
    "plt.title('Geographical distribution of customers', pad=12)\n",
    "plt.xticks(rotation=0)\n",
    "plt.tight_layout()\n",
    "plt.show()\n"
   ]
  },
  {
   "cell_type": "code",
   "execution_count": null,
   "metadata": {
    "execution": {
     "iopub.execute_input": "2025-05-27T10:21:59.722992Z",
     "iopub.status.busy": "2025-05-27T10:21:59.722678Z",
     "iopub.status.idle": "2025-05-27T10:22:00.168606Z",
     "shell.execute_reply": "2025-05-27T10:22:00.167603Z",
     "shell.execute_reply.started": "2025-05-27T10:21:59.722968Z"
    },
    "trusted": true
   },
   "outputs": [],
   "source": [
    "# -----------------------------------------------------------\n",
    "#  Fig. 6 – Churn distribution by geography: Count & Percentage\n",
    "# -----------------------------------------------------------\n",
    "import matplotlib.pyplot as plt\n",
    "import seaborn as sns\n",
    "\n",
    "# 1) Đảm bảo có cột Stays\n",
    "if 'Stays' not in df.columns:\n",
    "    df['Stays'] = 1 - df['Exited']\n",
    "\n",
    "# 2) Tính tổng Stays/Exited theo Geography\n",
    "geo_counts = df.groupby('Geography')[['Stays', 'Exited']].sum()\n",
    "\n",
    "# 3) Tính phần trăm trong từng Geography\n",
    "geo_pct = geo_counts.div(geo_counts.sum(axis=1), axis=0) * 100\n",
    "\n",
    "# 4) Vẽ hai biểu đồ song song\n",
    "sns.set_style('whitegrid')\n",
    "fig, axes = plt.subplots(1, 2, figsize=(12, 4))\n",
    "\n",
    "# Chọn màu: xanh lá cho Stays, tím cho Exits\n",
    "colors = ['#148200', '#7b007b']\n",
    "\n",
    "# (a) Count\n",
    "geo_counts.plot(kind='bar',\n",
    "                ax=axes[0],\n",
    "                color=colors,\n",
    "                edgecolor='black')\n",
    "axes[0].set_title('Churn Risk per Geography (Count)')\n",
    "axes[0].set_ylabel('Count')\n",
    "axes[0].set_xlabel('Geography')\n",
    "axes[0].legend(['Stays', 'Exits'], title='')\n",
    "\n",
    "# (b) Percentage\n",
    "geo_pct.plot(kind='bar',\n",
    "             ax=axes[1],\n",
    "             color=colors,\n",
    "             edgecolor='black')\n",
    "axes[1].set_title('Churn Risk per Geography (Percentage)')\n",
    "axes[1].set_ylabel('Percentage')\n",
    "axes[1].set_xlabel('Geography')\n",
    "axes[1].legend(['Stays', 'Exits'], title='')\n",
    "\n",
    "plt.tight_layout()\n",
    "plt.show()\n"
   ]
  },
  {
   "cell_type": "code",
   "execution_count": null,
   "metadata": {
    "execution": {
     "iopub.execute_input": "2025-05-27T10:22:10.40726Z",
     "iopub.status.busy": "2025-05-27T10:22:10.406973Z",
     "iopub.status.idle": "2025-05-27T10:22:10.94565Z",
     "shell.execute_reply": "2025-05-27T10:22:10.944865Z",
     "shell.execute_reply.started": "2025-05-27T10:22:10.407239Z"
    },
    "trusted": true
   },
   "outputs": [],
   "source": [
    "# -----------------------------------------------------------\n",
    "#  Fig. 7 – Correlation score heatmap\n",
    "# -----------------------------------------------------------\n",
    "import matplotlib.pyplot as plt\n",
    "import seaborn as sns\n",
    "\n",
    "# 1) Tính ma trận tương quan\n",
    "corr = df[['CreditScore', 'Age', 'Tenure', 'Balance',\n",
    "           'NumOfProducts', 'HasCrCard',\n",
    "           'IsActiveMember', 'EstimatedSalary', 'Exited']].corr()\n",
    "\n",
    "# 2) Vẽ heatmap\n",
    "plt.figure(figsize=(8, 6))\n",
    "sns.set_style('white')   # nền trắng để heatmap nổi bật\n",
    "\n",
    "sns.heatmap(\n",
    "    corr,\n",
    "    annot=True,           # hiển thị hệ số tương quan\n",
    "    fmt='.2f',            # 2 chữ số thập phân\n",
    "    cmap='RdBu',          # diverging: đỏ + (positive), xanh dương (negative)\n",
    "    vmin=-1, vmax=1,      # chuẩn hoá về [-1, 1]\n",
    "    linewidths=0.5,       # kẻ lưới giữa các ô\n",
    "    cbar_kws={'label': 'Correlation'}\n",
    ")\n",
    "\n",
    "plt.title('Correlation Heatmap', pad=12)\n",
    "plt.xticks(rotation=45, ha='right')\n",
    "plt.yticks(rotation=0)\n",
    "plt.tight_layout()\n",
    "plt.show()\n"
   ]
  },
  {
   "cell_type": "code",
   "execution_count": null,
   "metadata": {
    "execution": {
     "iopub.execute_input": "2025-05-27T10:25:30.814957Z",
     "iopub.status.busy": "2025-05-27T10:25:30.814644Z",
     "iopub.status.idle": "2025-05-27T10:25:32.691541Z",
     "shell.execute_reply": "2025-05-27T10:25:32.690726Z",
     "shell.execute_reply.started": "2025-05-27T10:25:30.814935Z"
    },
    "trusted": true
   },
   "outputs": [],
   "source": [
    "import matplotlib.pyplot as plt\n",
    "import seaborn as sns\n",
    "\n",
    "# Nếu df đã có sẵn trong RAM thì bỏ bước đọc file\n",
    "# df = pd.read_csv(\"path/to/your_dataset.csv\") \n",
    "\n",
    "# ─── THIẾT LẬP CÁC CỘT CẦN VẼ ────────────────────────────────────────────────\n",
    "target      = \"Exited\"                # 0 = Stays, 1 = Exits\n",
    "violin_cols = [\"Age\", \"Balance\", \"NumOfProducts\", \"IsActiveMember\"]\n",
    "\n",
    "# Kiểm tra thiếu cột nào không\n",
    "missing = [c for c in violin_cols + [target] if c not in df.columns]\n",
    "if missing:\n",
    "    raise KeyError(f\"Các cột sau chưa có trong DataFrame: {missing}\")\n",
    "\n",
    "# ─── VẼ LƯỚI VIOLIN PLOT ─────────────────────────────────────────────────────\n",
    "sns.set_style(\"whitegrid\")            # nền sáng giống hình minh hoạ\n",
    "palette = {0: \"forestgreen\", 1: \"purple\"}   # màu xanh & tím như hình\n",
    "\n",
    "fig, axes = plt.subplots(2, 2, figsize=(11, 8))\n",
    "axes = axes.flatten()\n",
    "\n",
    "for i, col in enumerate(violin_cols):\n",
    "    ax = axes[i]\n",
    "    # split=False vì ta không vẽ hai nửa chung; mỗi nhóm là một violin riêng\n",
    "    sns.violinplot(\n",
    "        data   = df,\n",
    "        x      = target,\n",
    "        y      = col,\n",
    "        palette= palette,\n",
    "        bw     = 0.2,       # độ mượt; giảm nếu muốn “miền” gọn hơn\n",
    "        inner  = \"box\",     # vẽ thêm boxplot bên trong\n",
    "        ax     = ax\n",
    "    )\n",
    "    ax.set_xticklabels([\"Stays\", \"Exits\"])\n",
    "    ax.set_xlabel('Churn Risk (\"Exited\")')\n",
    "    ax.set_ylabel(col)\n",
    "    title = f\"Churn vs. {col}\" if col != \"IsActiveMember\" else \"Churn vs. Active Membership\"\n",
    "    ax.set_title(title, fontweight=\"bold\")\n",
    "\n",
    "# Ẩn các ô thừa nếu có (trong trường hợp < 4 biến)\n",
    "for j in range(len(violin_cols), len(axes)):\n",
    "    fig.delaxes(axes[j])\n",
    "\n",
    "fig.suptitle(\"Churn Risk vs. Different Attributes\", fontsize=16, y=1.02)\n",
    "plt.tight_layout()\n",
    "plt.show()\n"
   ]
  }
 ],
 "metadata": {
  "kaggle": {
   "accelerator": "gpu",
   "dataSources": [
    {
     "databundleVersionId": 7405009,
     "sourceId": 65711,
     "sourceType": "competition"
    },
    {
     "datasetId": 3191230,
     "sourceId": 5536933,
     "sourceType": "datasetVersion"
    },
    {
     "datasetId": 7018614,
     "sourceId": 11235130,
     "sourceType": "datasetVersion"
    }
   ],
   "dockerImageVersionId": 30919,
   "isGpuEnabled": true,
   "isInternetEnabled": true,
   "language": "python",
   "sourceType": "notebook"
  },
  "kernelspec": {
   "display_name": "Python 3",
   "language": "python",
   "name": "python3"
  },
  "language_info": {
   "codemirror_mode": {
    "name": "ipython",
    "version": 3
   },
   "file_extension": ".py",
   "mimetype": "text/x-python",
   "name": "python",
   "nbconvert_exporter": "python",
   "pygments_lexer": "ipython3",
   "version": "3.10.12"
  }
 },
 "nbformat": 4,
 "nbformat_minor": 4
}
