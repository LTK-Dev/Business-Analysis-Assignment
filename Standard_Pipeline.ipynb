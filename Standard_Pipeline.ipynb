{
 "cells": [
  {
   "cell_type": "code",
   "execution_count": null,
   "metadata": {
    "_cell_guid": "b1076dfc-b9ad-4769-8c92-a6c4dae69d19",
    "_uuid": "8f2839f25d086af736a60e9eeb907d3b93b6e0e5",
    "trusted": true
   },
   "outputs": [],
   "source": [
    "!pip install autogluon==1.1.0 xgboost==1.7.6 scikit-learn==1.3.2 lightgbm==4.3.0 > /dev/null\n",
    "\n",
    "from autogluon.tabular import TabularDataset, TabularPredictor\n",
    "import numpy as np\n",
    "import pandas as pd\n",
    "import lightgbm as lgb\n",
    "from sklearn.model_selection import train_test_split\n",
    "from sklearn.metrics import roc_auc_score\n",
    "import matplotlib.pyplot as plt\n",
    "from sklearn.model_selection import StratifiedKFold\n",
    "from sklearn.feature_extraction.text import TfidfVectorizer\n",
    "from sklearn.decomposition import TruncatedSVD\n",
    "from catboost import CatBoostClassifier, Pool\n",
    "from catboost.utils import eval_metric\n",
    "from imblearn.over_sampling import SMOTENC\n",
    "from imblearn.combine import SMOTETomek\n",
    "from imblearn.under_sampling import RandomUnderSampler\n",
    "from sklearn.preprocessing import LabelEncoder\n",
    "import seaborn as sns\n",
    "\n",
    "from sklearn.model_selection import StratifiedKFold\n",
    "from sklearn.metrics import roc_auc_score\n",
    "from sklearn.metrics import confusion_matrix, ConfusionMatrixDisplay, classification_report, roc_curve, auc, precision_recall_curve\n",
    "import matplotlib.pyplot as plt\n",
    "\n",
    "import warnings\n",
    "warnings.filterwarnings(\"ignore\")"
   ]
  },
  {
   "cell_type": "markdown",
   "metadata": {},
   "source": [
    "## Parameters"
   ]
  },
  {
   "cell_type": "code",
   "execution_count": null,
   "metadata": {
    "trusted": true
   },
   "outputs": [],
   "source": [
    "RAND_VAL=27\n",
    "num_folds=5 ## Number of folds\n",
    "n_est=3500 ## Number of estimators"
   ]
  },
  {
   "cell_type": "markdown",
   "metadata": {},
   "source": [
    "## Read Train and Test Files"
   ]
  },
  {
   "cell_type": "code",
   "execution_count": null,
   "metadata": {
    "trusted": true
   },
   "outputs": [],
   "source": [
    "df_train = pd.read_csv('/kaggle/input/playground-series-s4e1/train.csv')\n",
    "print(df_train.columns)\n",
    "df_train.head()"
   ]
  },
  {
   "cell_type": "code",
   "execution_count": null,
   "metadata": {
    "trusted": true
   },
   "outputs": [],
   "source": [
    "df_test = pd.read_csv('/kaggle/input/playground-series-s4e1/test.csv')\n",
    "df_test_ov = df_test.copy()\n",
    "df_test.head()"
   ]
  },
  {
   "cell_type": "code",
   "execution_count": null,
   "metadata": {
    "trusted": true
   },
   "outputs": [],
   "source": [
    "df_test_val = pd.read_csv('/kaggle/input/newewew/train.csv')\n",
    "df_test_val.head()"
   ]
  },
  {
   "cell_type": "markdown",
   "metadata": {},
   "source": [
    "## Scaling"
   ]
  },
  {
   "cell_type": "code",
   "execution_count": null,
   "metadata": {
    "trusted": true
   },
   "outputs": [],
   "source": [
    "scale_cols = ['Age','CreditScore', 'Balance','EstimatedSalary']\n",
    "\n",
    "for c in scale_cols:\n",
    "    min_value = df_train[c].min()\n",
    "    max_value = df_train[c].max()\n",
    "    df_train[c+\"_scaled\"] = (df_train[c] - min_value) / (max_value - min_value)\n",
    "    df_test[c+\"_scaled\"] = (df_test[c] - min_value) / (max_value - min_value)\n",
    "    df_test_val[c+\"_scaled\"] = (df_test_val[c] - min_value) / (max_value - min_value)"
   ]
  },
  {
   "cell_type": "code",
   "execution_count": null,
   "metadata": {
    "trusted": true
   },
   "outputs": [],
   "source": [
    "df_train.head()"
   ]
  },
  {
   "cell_type": "markdown",
   "metadata": {},
   "source": [
    "# Smote"
   ]
  },
  {
   "cell_type": "code",
   "execution_count": null,
   "metadata": {
    "trusted": true
   },
   "outputs": [],
   "source": [
    "# Define features and target\n",
    "X = df_train.drop(['id', 'CustomerId', 'Exited'], axis=1, errors='ignore')\n",
    "y = df_train['Exited']"
   ]
  },
  {
   "cell_type": "code",
   "execution_count": null,
   "metadata": {
    "trusted": true
   },
   "outputs": [],
   "source": [
    "cat_cols = X.select_dtypes(['object', 'category']).columns\n",
    "cat_idx  = [X.columns.get_loc(c) for c in cat_cols]\n",
    "print(\"\\nCategorical columns:\", cat_cols)"
   ]
  },
  {
   "cell_type": "code",
   "execution_count": null,
   "metadata": {
    "trusted": true
   },
   "outputs": [],
   "source": [
    "# Plot distribution before SMOTENC\n",
    "plt.figure(figsize=(12, 5))\n",
    "plt.subplot(1, 2, 1)\n",
    "sns.countplot(x=y, palette='Set2')\n",
    "plt.title('Distribution of Exited (Before SMOTENC)')\n",
    "plt.xlabel('Exited')\n",
    "plt.ylabel('Count')"
   ]
  },
  {
   "cell_type": "code",
   "execution_count": null,
   "metadata": {
    "trusted": true
   },
   "outputs": [],
   "source": [
    "sm = SMOTENC(categorical_features=cat_idx, sampling_strategy=0.667, random_state=42)\n",
    "X_smotenc, y_smotenc = sm.fit_resample(X, y)\n",
    "\n",
    "# Convert resampled data back to DataFrame\n",
    "df_train_smotenc = pd.DataFrame(X_smotenc, columns=X.columns)\n",
    "df_train_smotenc['Exited'] = y_smotenc\n",
    "\n",
    "# Plot distribution after SMOTENC\n",
    "plt.subplot(1, 2, 2)\n",
    "sns.countplot(x=y_smotenc, palette='Set2')\n",
    "plt.title('Distribution of Exited (After SMOTENC, 6:4 Ratio)')\n",
    "plt.xlabel('Exited')\n",
    "plt.ylabel('Count')\n",
    "plt.tight_layout()\n",
    "plt.show()"
   ]
  },
  {
   "cell_type": "code",
   "execution_count": null,
   "metadata": {
    "trusted": true
   },
   "outputs": [],
   "source": [
    "# Print class distribution\n",
    "print(\"\\nClass distribution before SMOTENC:\")\n",
    "print(y.value_counts())\n",
    "print(\"\\nClass distribution after SMOTENC:\")\n",
    "print(pd.Series(y_smotenc).value_counts())"
   ]
  },
  {
   "cell_type": "markdown",
   "metadata": {},
   "source": [
    "## Feature Engineering"
   ]
  },
  {
   "cell_type": "code",
   "execution_count": null,
   "metadata": {
    "trusted": true
   },
   "outputs": [],
   "source": [
    "def getFeats(df):\n",
    "    \n",
    "    df['IsSenior'] = df['Age'].apply(lambda x: 1 if x >= 60 else 0)\n",
    "    df['IsActive_by_CreditCard'] = df['HasCrCard'] * df['IsActiveMember']\n",
    "    df['Products_Per_Tenure'] =  df['Tenure'] / df['NumOfProducts']\n",
    "    df['AgeCat'] = np.round(df.Age/20).astype('int').astype('category')\n",
    "    df['Sur_Geo_Gend_Sal'] = df['Surname']+df['Geography']+df['Gender']+np.round(df.EstimatedSalary).astype('str')\n",
    "\n",
    "    \n",
    "    return df"
   ]
  },
  {
   "cell_type": "code",
   "execution_count": null,
   "metadata": {
    "trusted": true
   },
   "outputs": [],
   "source": [
    "df_train = getFeats(df_train)\n",
    "df_test = getFeats(df_test)\n",
    "df_test_val = getFeats(df_test_val)\n",
    "df_train_smotenc = getFeats(df_train_smotenc) \n",
    "\n",
    "feat_cols=df_train.columns.drop(['id','CustomerId', 'Surname','Exited'])\n",
    "feat_cols=feat_cols.drop(scale_cols)\n",
    "print(feat_cols)\n",
    "df_train.head()"
   ]
  },
  {
   "cell_type": "code",
   "execution_count": null,
   "metadata": {
    "trusted": true
   },
   "outputs": [],
   "source": [
    "X=df_train[feat_cols]\n",
    "y=df_train['Exited']\n",
    "\n",
    "X_smotenc = df_train_smotenc[feat_cols]\n",
    "y_smotenc = df_train_smotenc['Exited']\n",
    "\n",
    "cat_features = np.where(X.dtypes != np.float64)[0]\n",
    "cat_features"
   ]
  },
  {
   "cell_type": "markdown",
   "metadata": {},
   "source": [
    "## Training"
   ]
  },
  {
   "cell_type": "code",
   "execution_count": null,
   "metadata": {
    "trusted": true
   },
   "outputs": [],
   "source": [
    "folds = StratifiedKFold(n_splits=num_folds,random_state=RAND_VAL,shuffle=True)\n",
    "test_preds = np.empty((num_folds, len(df_test)))\n",
    "auc_vals=[]\n",
    "\n",
    "for n_fold, (train_idx, valid_idx) in enumerate(folds.split(X_smotenc, y_smotenc)):\n",
    "    \n",
    "    X_train, y_train = X_smotenc.iloc[train_idx], y_smotenc.iloc[train_idx]\n",
    "    X_val, y_val = X_smotenc.iloc[valid_idx], y_smotenc.iloc[valid_idx]\n",
    "    \n",
    "    train_pool = Pool(X_train, y_train,cat_features=cat_features)\n",
    "    val_pool = Pool(X_val, y_val,cat_features=cat_features)\n",
    "    \n",
    "    clf = CatBoostClassifier(\n",
    "    eval_metric='AUC',\n",
    "    task_type='GPU',\n",
    "    learning_rate=0.03,\n",
    "    iterations=n_est)\n",
    "    clf.fit(train_pool, eval_set=val_pool,verbose=300)\n",
    "    \n",
    "    y_pred_val = clf.predict_proba(X_val[feat_cols])[:,1]\n",
    "    auc_val = roc_auc_score(y_val, y_pred_val)\n",
    "    print(\"AUC for fold \",n_fold,\": \",auc_val)\n",
    "    auc_vals.append(auc_val)\n",
    "    \n",
    "    y_pred_test = clf.predict_proba(df_test[feat_cols])[:,1]\n",
    "    test_preds[n_fold, :] = y_pred_test\n",
    "    print(\"----------------\")"
   ]
  },
  {
   "cell_type": "markdown",
   "metadata": {},
   "source": [
    "## Evaluation"
   ]
  },
  {
   "cell_type": "code",
   "execution_count": null,
   "metadata": {
    "trusted": true
   },
   "outputs": [],
   "source": [
    "\"Mean AUC: \",np.mean(auc_vals)"
   ]
  },
  {
   "cell_type": "markdown",
   "metadata": {},
   "source": [
    "## Feature Importance"
   ]
  },
  {
   "cell_type": "code",
   "execution_count": null,
   "metadata": {
    "trusted": true
   },
   "outputs": [],
   "source": [
    "import shap\n",
    "shap.initjs()\n",
    "explainer = shap.TreeExplainer(clf)\n",
    "shap_values = explainer.shap_values(train_pool)\n",
    "shap.summary_plot(shap_values, X_train, plot_type=\"bar\")"
   ]
  },
  {
   "cell_type": "markdown",
   "metadata": {},
   "source": [
    "## CatBoost Predictions"
   ]
  },
  {
   "cell_type": "code",
   "execution_count": null,
   "metadata": {
    "trusted": true
   },
   "outputs": [],
   "source": [
    "catboost_predictions = test_preds.mean(axis=0)\n",
    "df_sub = pd.DataFrame({'id': df_test['id'], 'Exited': catboost_predictions})"
   ]
  },
  {
   "cell_type": "markdown",
   "metadata": {},
   "source": [
    "## AutoGluon Test"
   ]
  },
  {
   "cell_type": "code",
   "execution_count": null,
   "metadata": {
    "trusted": true
   },
   "outputs": [],
   "source": [
    "from autogluon.tabular import TabularPredictor\n",
    "\n",
    "# Prepare data for AutoGluon\n",
    "df_train_AG = df_train.copy()\n",
    "df_train_AG.pop('id')\n",
    "df_train_AG.head(3)\n",
    "\n",
    "df_test_AG = df_test.copy()\n",
    "df_test_AG.pop('id')\n",
    "df_test_AG.head(3)\n",
    "\n",
    "df_test_val_AG = df_test_val.copy()\n",
    "df_test_val_AG.pop('id')"
   ]
  },
  {
   "cell_type": "code",
   "execution_count": null,
   "metadata": {
    "trusted": true
   },
   "outputs": [],
   "source": [
    "# Train AutoGluon model\n",
    "automl = TabularPredictor(\n",
    "    label='Exited',\n",
    "    problem_type='binary',\n",
    "    eval_metric='roc_auc')\n",
    "automl.fit(df_train_AG, presets='best_quality')"
   ]
  },
  {
   "cell_type": "code",
   "execution_count": null,
   "metadata": {
    "trusted": true
   },
   "outputs": [],
   "source": [
    "# View AutoGluon leaderboard\n",
    "automl.leaderboard()"
   ]
  },
  {
   "cell_type": "code",
   "execution_count": null,
   "metadata": {
    "trusted": true
   },
   "outputs": [],
   "source": [
    "# Get predictions from AutoGluon\n",
    "predictions = automl.predict_proba(df_test_AG)\n",
    "predictions0 = predictions[1]  # AutoGluon's Best Model prediction\n",
    "\n",
    "# Print best model name\n",
    "best_model_name = automl.leaderboard().iloc[0]['model']\n",
    "print(f\"AutoGluon Best Model: {best_model_name}\")"
   ]
  },
  {
   "cell_type": "markdown",
   "metadata": {},
   "source": [
    "## Ensemble: Combining CatBoost and AutoGluon"
   ]
  },
  {
   "cell_type": "code",
   "execution_count": null,
   "metadata": {
    "trusted": true
   },
   "outputs": [],
   "source": [
    "# Ensemble: Simple average of CatBoost and AutoGluon predictions\n",
    "ensemble_predictions = (predictions0 + catboost_predictions) / 2\n",
    "\n",
    "# Create submission file\n",
    "output_sample = pd.read_csv('/kaggle/input/playground-series-s4e1/sample_submission.csv')\n",
    "output = pd.DataFrame({'id': output_sample.id, 'Exited': ensemble_predictions})\n",
    "output.to_csv('submission.csv', index=False, sep=',')"
   ]
  },
  {
   "cell_type": "code",
   "execution_count": null,
   "metadata": {
    "trusted": true
   },
   "outputs": [],
   "source": [
    "# Visualize final predictions\n",
    "output.hist(column='Exited', bins=20, range=[0,1], figsize=(12,6))\n",
    "plt.title('Distribution of Ensemble Predictions')\n",
    "plt.show()"
   ]
  },
  {
   "cell_type": "markdown",
   "metadata": {},
   "source": [
    "# Confusion matrix"
   ]
  },
  {
   "cell_type": "code",
   "execution_count": null,
   "metadata": {
    "trusted": true
   },
   "outputs": [],
   "source": [
    "# ----------------------------------------------------------\n",
    "# 0. Chuẩn bị lại biến cat_features & feat_cols cho thống nhất\n",
    "#    (cat_features là **tên cột**, còn CatBoost cần **chỉ số**\n",
    "#    trong DataFrame được đưa vào Pool)\n",
    "# ----------------------------------------------------------\n",
    "# Giữ lại các cột thật sự tồn tại\n",
    "cat_features = [c for c in cat_features if c in df_test_val.columns]\n",
    "\n",
    "# Xây lại feat_cols (bảo đảm cat-features nằm trong tập đặc trưng)\n",
    "feat_cols = list(feat_cols)           # nếu feat_cols đang là Index\n",
    "feat_cols = [c for c in feat_cols if c in df_test_val.columns]\n",
    "\n",
    "# Chỉ số cột phân loại trong tập feat_cols (0-based)\n",
    "cat_idx_in_pool = [feat_cols.index(c) for c in cat_features]\n",
    "\n",
    "# ----------------------------------------------------------\n",
    "# 1. Ép tất cả giá trị trong cột phân loại thành chuỗi\n",
    "#    (kể cả NaN → “NaN” dưới dạng str)\n",
    "# ----------------------------------------------------------\n",
    "for col in cat_features:\n",
    "    df_test_val[col] = (\n",
    "        df_test_val[col]\n",
    "        .astype(object)               # tách khỏi dtype float\n",
    "        .where(df_test_val[col].notna(), \"NaN\")   # NaN → \"NaN\"\n",
    "        .astype(str)                  # ép hẳn về chuỗi\n",
    "    )\n",
    "\n",
    "# ----------------------------------------------------------\n",
    "# 2. Tạo Pool & dự đoán bằng CatBoost\n",
    "# ----------------------------------------------------------\n",
    "print(\"\\nPredicting on df_test_val with CatBoost...\")\n",
    "test_val_pool = Pool(\n",
    "    df_test_val[feat_cols],\n",
    "    cat_features=cat_idx_in_pool      # truyền chỉ số, không phải tên\n",
    ")\n",
    "\n",
    "y_pred_test_val_catboost        = clf.predict(test_val_pool)\n",
    "y_pred_test_val_proba_catboost  = clf.predict_proba(test_val_pool)[:, 1]\n",
    "\n",
    "# ----------------------------------------------------------\n",
    "# 3. Dự đoán bằng AutoGluon (không cần đổi gì nếu đã OK)\n",
    "# ----------------------------------------------------------\n",
    "print(\"\\nPredicting on df_test_val with AutoGluon...\")\n",
    "y_pred_test_val_autogluon       = automl.predict(df_test_val_AG)\n",
    "y_pred_test_val_proba_autogluon = automl.predict_proba(df_test_val_AG)[1]\n",
    "\n",
    "# ----------------------------------------------------------\n",
    "# 4. Ensemble (trung bình đơn giản)\n",
    "# ----------------------------------------------------------\n",
    "print(\"\\nCreating ensemble predictions (CatBoost + AutoGluon) / 2...\")\n",
    "y_pred_test_val_proba_ensemble = (\n",
    "    y_pred_test_val_proba_catboost + y_pred_test_val_proba_autogluon\n",
    ") / 2\n",
    "y_pred_test_val_ensemble = (y_pred_test_val_proba_ensemble > 0.5).astype(int)\n"
   ]
  },
  {
   "cell_type": "code",
   "execution_count": null,
   "metadata": {
    "trusted": true
   },
   "outputs": [],
   "source": [
    "# Confusion Matrix for Ensemble\n",
    "cm_ensemble = confusion_matrix(df_test_val['Exited'], y_pred_test_val_ensemble, labels=[0, 1])\n",
    "print(\"\\nConfusion Matrix on df_test_val (Ensemble):\")\n",
    "print(cm_ensemble)\n",
    "\n",
    "# Visualize Confusion Matrix\n",
    "plt.figure(figsize=(8, 6))\n",
    "disp = ConfusionMatrixDisplay(confusion_matrix=cm_ensemble, display_labels=['Not Exited (0)', 'Exited (1)'])\n",
    "disp.plot(cmap='Blues')\n",
    "plt.title('Confusion Matrix on df_test_val (Ensemble)')\n",
    "plt.show()\n",
    "\n",
    "# Classification Report for Ensemble\n",
    "print(\"\\nClassification Report on df_test_val (Ensemble):\")\n",
    "print(classification_report(df_test_val['Exited'], y_pred_test_val_ensemble, target_names=['Not Exited (0)', 'Exited (1)']))\n",
    "\n",
    "# ROC Curve for Ensemble\n",
    "fpr, tpr, _ = roc_curve(df_test_val['Exited'], y_pred_test_val_proba_ensemble)\n",
    "roc_auc = auc(fpr, tpr)\n",
    "plt.figure(figsize=(8, 6))\n",
    "plt.plot(fpr, tpr, color='darkorange', lw=2, label=f'ROC curve (AUC = {roc_auc:.2f})')\n",
    "plt.plot([0, 1], [0, 1], color='navy', lw=2, linestyle='--')\n",
    "plt.xlim([0.0, 1.0])\n",
    "plt.ylim([0.0, 1.05])\n",
    "plt.xlabel('False Positive Rate')\n",
    "plt.ylabel('True Positive Rate')\n",
    "plt.title('ROC Curve on df_test_val (Ensemble)')\n",
    "plt.legend(loc=\"lower right\")\n",
    "plt.grid(True)\n",
    "plt.show()\n",
    "\n",
    "# Precision-Recall Curve for Ensemble\n",
    "precision, recall, _ = precision_recall_curve(df_test_val['Exited'], y_pred_test_val_proba_ensemble)\n",
    "plt.figure(figsize=(8, 6))\n",
    "plt.plot(recall, precision, color='purple', lw=2, label='Precision-Recall curve')\n",
    "plt.xlabel('Recall')\n",
    "plt.ylabel('Precision')\n",
    "plt.title('Precision-Recall Curve on df_test_val (Ensemble)')\n",
    "plt.legend(loc=\"lower left\")\n",
    "plt.grid(True)\n",
    "plt.show()"
   ]
  },
  {
   "cell_type": "code",
   "execution_count": null,
   "metadata": {
    "trusted": true
   },
   "outputs": [],
   "source": [
    "# Step 10: Compare individual models (optional)\n",
    "# CatBoost Confusion Matrix\n",
    "cm_catboost = confusion_matrix(df_test_val['Exited'], y_pred_test_val_catboost, labels=[0, 1])\n",
    "print(\"\\nConfusion Matrix on df_test_val (CatBoost):\")\n",
    "print(cm_catboost)\n",
    "\n",
    "# AutoGluon Confusion Matrix\n",
    "cm_autogluon = confusion_matrix(df_test_val['Exited'], y_pred_test_val_autogluon, labels=[0, 1])\n",
    "print(\"\\nConfusion Matrix on df_test_val (AutoGluon):\")\n",
    "print(cm_autogluon)\n",
    "\n",
    "# ROC AUC for individual models\n",
    "auc_catboost = roc_auc_score(df_test_val['Exited'], y_pred_test_val_proba_catboost)\n",
    "auc_autogluon = roc_auc_score(df_test_val['Exited'], y_pred_test_val_proba_autogluon)\n",
    "auc_ensemble = roc_auc_score(df_test_val['Exited'], y_pred_test_val_proba_ensemble)\n",
    "print(f\"\\nROC AUC Scores:\")\n",
    "print(f\"CatBoost: {auc_catboost:.4f}\")\n",
    "print(f\"AutoGluon: {auc_autogluon:.4f}\")\n",
    "print(f\"Ensemble: {auc_ensemble:.4f}\")"
   ]
  }
 ],
 "metadata": {
  "kaggle": {
   "accelerator": "gpu",
   "dataSources": [
    {
     "databundleVersionId": 7405009,
     "sourceId": 65711,
     "sourceType": "competition"
    },
    {
     "datasetId": 3191230,
     "sourceId": 5536933,
     "sourceType": "datasetVersion"
    },
    {
     "datasetId": 7018614,
     "sourceId": 11235130,
     "sourceType": "datasetVersion"
    },
    {
     "datasetId": 7118124,
     "sourceId": 11370634,
     "sourceType": "datasetVersion"
    },
    {
     "datasetId": 7537868,
     "sourceId": 11984841,
     "sourceType": "datasetVersion"
    }
   ],
   "dockerImageVersionId": 31041,
   "isGpuEnabled": true,
   "isInternetEnabled": true,
   "language": "python",
   "sourceType": "notebook"
  },
  "kernelspec": {
   "display_name": "Python 3",
   "language": "python",
   "name": "python3"
  },
  "language_info": {
   "codemirror_mode": {
    "name": "ipython",
    "version": 3
   },
   "file_extension": ".py",
   "mimetype": "text/x-python",
   "name": "python",
   "nbconvert_exporter": "python",
   "pygments_lexer": "ipython3",
   "version": "3.11.11"
  }
 },
 "nbformat": 4,
 "nbformat_minor": 4
}
