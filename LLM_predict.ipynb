{
 "cells": [
  {
   "cell_type": "code",
   "execution_count": null,
   "id": "7b712dee",
   "metadata": {
    "_cell_guid": "b1076dfc-b9ad-4769-8c92-a6c4dae69d19",
    "_uuid": "8f2839f25d086af736a60e9eeb907d3b93b6e0e5",
    "execution": {
     "iopub.execute_input": "2025-05-27T11:38:01.266760Z",
     "iopub.status.busy": "2025-05-27T11:38:01.266520Z",
     "iopub.status.idle": "2025-05-27T11:38:02.045935Z",
     "shell.execute_reply": "2025-05-27T11:38:02.044957Z"
    },
    "papermill": {
     "duration": 0.785692,
     "end_time": "2025-05-27T11:38:02.047315",
     "exception": false,
     "start_time": "2025-05-27T11:38:01.261623",
     "status": "completed"
    },
    "tags": []
   },
   "outputs": [],
   "source": [
    "# This Python 3 environment comes with many helpful analytics libraries installed\n",
    "# It is defined by the kaggle/python Docker image: https://github.com/kaggle/docker-python\n",
    "# For example, here's several helpful packages to load\n",
    "\n",
    "import numpy as np # linear algebra\n",
    "import pandas as pd # data processing, CSV file I/O (e.g. pd.read_csv)\n",
    "\n",
    "# Input data files are available in the read-only \"../input/\" directory\n",
    "# For example, running this (by clicking run or pressing Shift+Enter) will list all files under the input directory\n",
    "\n",
    "import os\n",
    "for dirname, _, filenames in os.walk('/kaggle/input'):\n",
    "    for filename in filenames:\n",
    "        print(os.path.join(dirname, filename))\n",
    "\n",
    "# You can write up to 20GB to the current directory (/kaggle/working/) that gets preserved as output when you create a version using \"Save & Run All\" \n",
    "# You can also write temporary files to /kaggle/temp/, but they won't be saved outside of the current session"
   ]
  },
  {
   "cell_type": "code",
   "execution_count": null,
   "id": "3ea347d0",
   "metadata": {
    "execution": {
     "iopub.execute_input": "2025-05-27T11:38:02.055907Z",
     "iopub.status.busy": "2025-05-27T11:38:02.055570Z",
     "iopub.status.idle": "2025-05-27T11:38:02.058916Z",
     "shell.execute_reply": "2025-05-27T11:38:02.058313Z"
    },
    "papermill": {
     "duration": 0.008891,
     "end_time": "2025-05-27T11:38:02.060254",
     "exception": false,
     "start_time": "2025-05-27T11:38:02.051363",
     "status": "completed"
    },
    "tags": []
   },
   "outputs": [],
   "source": [
    "import warnings # Supress warnings \n",
    "warnings.filterwarnings('ignore')\n",
    "\n",
    "np.random.seed(0)"
   ]
  },
  {
   "cell_type": "code",
   "execution_count": null,
   "id": "582a4cab",
   "metadata": {
    "execution": {
     "iopub.execute_input": "2025-05-27T11:38:02.068239Z",
     "iopub.status.busy": "2025-05-27T11:38:02.068019Z",
     "iopub.status.idle": "2025-05-27T11:38:02.111099Z",
     "shell.execute_reply": "2025-05-27T11:38:02.110330Z"
    },
    "papermill": {
     "duration": 0.048512,
     "end_time": "2025-05-27T11:38:02.112435",
     "exception": false,
     "start_time": "2025-05-27T11:38:02.063923",
     "status": "completed"
    },
    "tags": []
   },
   "outputs": [],
   "source": [
    "file_path=\"/kaggle/input/public-telecom-customer-churn-analysis-and-prediction/train_data.csv\"\n",
    "data = pd.read_csv(file_path)\n",
    "\n",
    "# Display the first few rows of the dataset to understand its structure\n",
    "data.head()"
   ]
  },
  {
   "cell_type": "markdown",
   "id": "bee5fda9",
   "metadata": {
    "papermill": {
     "duration": 0.003606,
     "end_time": "2025-05-27T11:38:02.119963",
     "exception": false,
     "start_time": "2025-05-27T11:38:02.116357",
     "status": "completed"
    },
    "tags": []
   },
   "source": [
    "# Check missing value"
   ]
  },
  {
   "cell_type": "code",
   "execution_count": null,
   "id": "ce68a089",
   "metadata": {
    "execution": {
     "iopub.execute_input": "2025-05-27T11:38:02.128314Z",
     "iopub.status.busy": "2025-05-27T11:38:02.128066Z",
     "iopub.status.idle": "2025-05-27T11:38:02.136072Z",
     "shell.execute_reply": "2025-05-27T11:38:02.135442Z"
    },
    "papermill": {
     "duration": 0.013447,
     "end_time": "2025-05-27T11:38:02.137276",
     "exception": false,
     "start_time": "2025-05-27T11:38:02.123829",
     "status": "completed"
    },
    "tags": []
   },
   "outputs": [],
   "source": [
    "data.isnull().sum()"
   ]
  },
  {
   "cell_type": "code",
   "execution_count": null,
   "id": "09743720",
   "metadata": {
    "execution": {
     "iopub.execute_input": "2025-05-27T11:38:02.145844Z",
     "iopub.status.busy": "2025-05-27T11:38:02.145635Z",
     "iopub.status.idle": "2025-05-27T11:38:02.157539Z",
     "shell.execute_reply": "2025-05-27T11:38:02.156635Z"
    },
    "papermill": {
     "duration": 0.017349,
     "end_time": "2025-05-27T11:38:02.158682",
     "exception": false,
     "start_time": "2025-05-27T11:38:02.141333",
     "status": "completed"
    },
    "tags": []
   },
   "outputs": [],
   "source": [
    "# Thay thế missing values trong các cột với phương pháp phù hợp\n",
    "# Thay thế missing values của NetworkScore bằng giá trị trung bình\n",
    "data['NetworkScore'].fillna(data['NetworkScore'].mean(), inplace=True)\n",
    "\n",
    "# Thay thế missing values của Age bằng giá trị trung bình\n",
    "data['Age'].fillna(data['Age'].mean(), inplace=True)\n",
    "\n",
    "# Thay thế missing values của IsActiveMember bằng giá trị mode (giá trị xuất hiện nhiều nhất)\n",
    "data['IsActiveMember'].fillna(data['IsActiveMember'].mode()[0], inplace=True)\n",
    "\n",
    "# Thay thế missing values của EstimatedMonthlyUsage bằng giá trị trung bình\n",
    "data['EstimatedMonthlyUsage'].fillna(data['EstimatedMonthlyUsage'].mean(), inplace=True)\n",
    "\n",
    "# Kiểm tra lại xem đã xử lý hết missing values chưa\n",
    "print(data.isnull().sum())"
   ]
  },
  {
   "cell_type": "code",
   "execution_count": null,
   "id": "6807a8bf",
   "metadata": {
    "execution": {
     "iopub.execute_input": "2025-05-27T11:38:02.167156Z",
     "iopub.status.busy": "2025-05-27T11:38:02.166895Z",
     "iopub.status.idle": "2025-05-27T11:38:02.196606Z",
     "shell.execute_reply": "2025-05-27T11:38:02.195989Z"
    },
    "papermill": {
     "duration": 0.035035,
     "end_time": "2025-05-27T11:38:02.197650",
     "exception": false,
     "start_time": "2025-05-27T11:38:02.162615",
     "status": "completed"
    },
    "tags": []
   },
   "outputs": [],
   "source": [
    "data.describe()"
   ]
  },
  {
   "cell_type": "markdown",
   "id": "748df72e",
   "metadata": {
    "papermill": {
     "duration": 0.004236,
     "end_time": "2025-05-27T11:38:02.205981",
     "exception": false,
     "start_time": "2025-05-27T11:38:02.201745",
     "status": "completed"
    },
    "tags": []
   },
   "source": [
    "# LLAMA"
   ]
  },
  {
   "cell_type": "code",
   "execution_count": null,
   "id": "9cb72b90",
   "metadata": {
    "execution": {
     "iopub.execute_input": "2025-05-27T11:38:02.214790Z",
     "iopub.status.busy": "2025-05-27T11:38:02.214567Z",
     "iopub.status.idle": "2025-05-27T11:38:08.146736Z",
     "shell.execute_reply": "2025-05-27T11:38:08.145672Z"
    },
    "papermill": {
     "duration": 5.938957,
     "end_time": "2025-05-27T11:38:08.148998",
     "exception": false,
     "start_time": "2025-05-27T11:38:02.210041",
     "status": "completed"
    },
    "tags": []
   },
   "outputs": [],
   "source": [
    "!pip install together"
   ]
  },
  {
   "cell_type": "code",
   "execution_count": null,
   "id": "6ddf2b8f",
   "metadata": {
    "execution": {
     "iopub.execute_input": "2025-05-27T11:38:08.160238Z",
     "iopub.status.busy": "2025-05-27T11:38:08.159945Z",
     "iopub.status.idle": "2025-05-27T11:38:08.823007Z",
     "shell.execute_reply": "2025-05-27T11:38:08.822142Z"
    },
    "papermill": {
     "duration": 0.670236,
     "end_time": "2025-05-27T11:38:08.824610",
     "exception": false,
     "start_time": "2025-05-27T11:38:08.154374",
     "status": "completed"
    },
    "tags": []
   },
   "outputs": [],
   "source": [
    "import pandas as pd\n",
    "# import google.generativeai as genai # Không cần thiết nữa\n",
    "import time\n",
    "import json\n",
    "import os\n",
    "import re\n",
    "from together import Together # Import thư viện Together AI"
   ]
  },
  {
   "cell_type": "code",
   "execution_count": null,
   "id": "038d4994",
   "metadata": {
    "execution": {
     "iopub.execute_input": "2025-05-27T11:38:08.835933Z",
     "iopub.status.busy": "2025-05-27T11:38:08.835560Z",
     "iopub.status.idle": "2025-05-27T11:38:08.839166Z",
     "shell.execute_reply": "2025-05-27T11:38:08.838375Z"
    },
    "papermill": {
     "duration": 0.010504,
     "end_time": "2025-05-27T11:38:08.840501",
     "exception": false,
     "start_time": "2025-05-27T11:38:08.829997",
     "status": "completed"
    },
    "tags": []
   },
   "outputs": [],
   "source": [
    "# Thay thế bằng API key của bạn\n",
    "API_KEY = \"\"  # Thay bằng API key thực tế\n",
    "\n",
    "client = Together(api_key=API_KEY)\n",
    "\n",
    "# Tên mô hình bạn muốn sử dụng trên Together AI\n",
    "TOGETHER_MODEL = \"meta-llama/Llama-3.3-70B-Instruct-Turbo-Free\""
   ]
  },
  {
   "cell_type": "code",
   "execution_count": null,
   "id": "6fd9f2af",
   "metadata": {
    "execution": {
     "iopub.execute_input": "2025-05-27T11:38:08.851043Z",
     "iopub.status.busy": "2025-05-27T11:38:08.850841Z",
     "iopub.status.idle": "2025-05-27T11:38:33.724968Z",
     "shell.execute_reply": "2025-05-27T11:38:33.724050Z"
    },
    "papermill": {
     "duration": 24.88122,
     "end_time": "2025-05-27T11:38:33.726634",
     "exception": false,
     "start_time": "2025-05-27T11:38:08.845414",
     "status": "completed"
    },
    "tags": []
   },
   "outputs": [],
   "source": [
    "# test\n",
    "response = client.chat.completions.create(\n",
    "    model=\"meta-llama/Llama-3.3-70B-Instruct-Turbo-Free\",\n",
    "    messages=[\n",
    "      {\n",
    "        \"role\": \"user\",\n",
    "        \"content\": \"What are some fun things to do in New York?\"\n",
    "      }\n",
    "    ]\n",
    ")\n",
    "print(response.choices[0].message.content)"
   ]
  },
  {
   "cell_type": "markdown",
   "id": "bf54423a",
   "metadata": {
    "papermill": {
     "duration": 0.005314,
     "end_time": "2025-05-27T11:38:33.737320",
     "exception": false,
     "start_time": "2025-05-27T11:38:33.732006",
     "status": "completed"
    },
    "tags": []
   },
   "source": [
    "# LLM"
   ]
  },
  {
   "cell_type": "code",
   "execution_count": null,
   "id": "83f96557",
   "metadata": {
    "execution": {
     "iopub.execute_input": "2025-05-27T11:38:33.747977Z",
     "iopub.status.busy": "2025-05-27T11:38:33.747740Z",
     "iopub.status.idle": "2025-05-27T11:38:33.751854Z",
     "shell.execute_reply": "2025-05-27T11:38:33.751237Z"
    },
    "papermill": {
     "duration": 0.010766,
     "end_time": "2025-05-27T11:38:33.752996",
     "exception": false,
     "start_time": "2025-05-27T11:38:33.742230",
     "status": "completed"
    },
    "tags": []
   },
   "outputs": [],
   "source": [
    "SYSTEM_PROMPT = \"\"\"\n",
    "You are a predictive model tasked with determining whether a customer will churn (Exited: 1) or stay (Exited: 0) based on their telecom service data. Below are examples of customer data with their churn status:\n",
    "\n",
    "Example 1:\n",
    "CustomerID: 2858\n",
    "Surname: Bell\n",
    "NetworkScore: 68.0\n",
    "Region: North\n",
    "Gender: Female\n",
    "Age: 60.0\n",
    "Tenure: 17\n",
    "MonthlyCharge: 25.72\n",
    "NumOfProducts: 3\n",
    "HasInternetService: 1\n",
    "IsActiveMember: 1.0\n",
    "EstimatedMonthlyUsage: 533.4\n",
    "Exited: 0\n",
    "\n",
    "Example 2:\n",
    "CustomerID: 5794\n",
    "Surname: Baker\n",
    "NetworkScore: 34.0\n",
    "Region: North\n",
    "Gender: Male\n",
    "Age: 28.0\n",
    "Tenure: 7\n",
    "MonthlyCharge: 131.03\n",
    "NumOfProducts: 2\n",
    "HasInternetService: 0\n",
    "IsActiveMember: 0.0\n",
    "EstimatedMonthlyUsage: 509.04\n",
    "Exited: 0\n",
    "\n",
    "Example 3:\n",
    "CustomerID: 3996\n",
    "Surname: Jackson\n",
    "NetworkScore: 13.0\n",
    "Region: South\n",
    "Gender: Male\n",
    "Age: 65.0\n",
    "Tenure: 2\n",
    "MonthlyCharge: 64.27\n",
    "NumOfProducts: 3\n",
    "HasInternetService: 0\n",
    "IsActiveMember: 1.0\n",
    "EstimatedMonthlyUsage: 246.48\n",
    "Exited: 0\n",
    "\n",
    "Example 4:\n",
    "CustomerID: 2680\n",
    "Surname: Craig\n",
    "NetworkScore: 50.0\n",
    "Region: East\n",
    "Gender: Female\n",
    "Age: 60.0\n",
    "Tenure: 16\n",
    "MonthlyCharge: 41.26\n",
    "NumOfProducts: 3\n",
    "HasInternetService: 1\n",
    "IsActiveMember: 1.0\n",
    "EstimatedMonthlyUsage: 902.28\n",
    "Exited: 1\n",
    "\n",
    "Example 5:\n",
    "CustomerID: 1528\n",
    "Surname: Drake\n",
    "NetworkScore: 18.0\n",
    "Region: North\n",
    "Gender: Female\n",
    "Age: 63.0\n",
    "Tenure: 5\n",
    "MonthlyCharge: 99.55\n",
    "NumOfProducts: 4\n",
    "HasInternetService: 0\n",
    "IsActiveMember: 0.0\n",
    "EstimatedMonthlyUsage: 949.95\n",
    "Exited: 0\n",
    "\n",
    "Example 6:\n",
    "CustomerID: 217\n",
    "Surname: Chambers\n",
    "NetworkScore: 48.0\n",
    "Region: South\n",
    "Gender: Female\n",
    "Age: 29.0\n",
    "Tenure: 15\n",
    "MonthlyCharge: 46.91\n",
    "NumOfProducts: 1\n",
    "HasInternetService: 1\n",
    "IsActiveMember: 0.0\n",
    "EstimatedMonthlyUsage: 847.45\n",
    "Exited: 1\n",
    "\n",
    "Example 7:\n",
    "CustomerID: 2987\n",
    "Surname: Salazar\n",
    "NetworkScore: 98.0\n",
    "Region: South\n",
    "Gender: Male\n",
    "Age: 60.0\n",
    "Tenure: 20\n",
    "MonthlyCharge: 193.17\n",
    "NumOfProducts: 1\n",
    "HasInternetService: 1\n",
    "IsActiveMember: 1.0\n",
    "EstimatedMonthlyUsage: 328.63\n",
    "Exited: 0\n",
    "\n",
    "Example 8:\n",
    "CustomerID: 1414\n",
    "Surname: Knight\n",
    "NetworkScore: 64.0\n",
    "Region: South\n",
    "Gender: Other\n",
    "Age: 53.0\n",
    "Tenure: 4\n",
    "MonthlyCharge: 145.4\n",
    "NumOfProducts: 4\n",
    "HasInternetService: 1\n",
    "IsActiveMember: 1.0\n",
    "EstimatedMonthlyUsage: 506.3\n",
    "Exited: 0\n",
    "\n",
    "Example 9:\n",
    "CustomerID: 1113\n",
    "Surname: Joseph\n",
    "NetworkScore: 6.0\n",
    "Region: North\n",
    "Gender: Male\n",
    "Age: 36.0\n",
    "Tenure: 10\n",
    "MonthlyCharge: 193.33\n",
    "NumOfProducts: 2\n",
    "HasInternetService: 1\n",
    "IsActiveMember: 1.0\n",
    "EstimatedMonthlyUsage: 862.39\n",
    "Exited: 1\n",
    "\"\"\""
   ]
  },
  {
   "cell_type": "code",
   "execution_count": null,
   "id": "023762bc",
   "metadata": {
    "execution": {
     "iopub.execute_input": "2025-05-27T11:38:33.763624Z",
     "iopub.status.busy": "2025-05-27T11:38:33.763423Z",
     "iopub.status.idle": "2025-05-27T11:38:33.766814Z",
     "shell.execute_reply": "2025-05-27T11:38:33.766267Z"
    },
    "papermill": {
     "duration": 0.009864,
     "end_time": "2025-05-27T11:38:33.767854",
     "exception": false,
     "start_time": "2025-05-27T11:38:33.757990",
     "status": "completed"
    },
    "tags": []
   },
   "outputs": [],
   "source": [
    "def create_user_prompt(test_sample):\n",
    "    \"\"\"\n",
    "    Tạo phần user prompt chứa dữ liệu khách hàng cụ thể cần dự đoán.\n",
    "    \"\"\"\n",
    "    user_prompt_text = f\"\"\"\n",
    "Now, predict the Exited label (0 or 1) for the following customer:\n",
    "CustomerID: {test_sample['CustomerID']}\n",
    "Surname: {test_sample['Surname']}\n",
    "NetworkScore: {test_sample['NetworkScore']}\n",
    "Region: {test_sample['Region']}\n",
    "Gender: {test_sample['Gender']}\n",
    "Age: {test_sample['Age']}\n",
    "Tenure: {test_sample['Tenure']}\n",
    "MonthlyCharge: {test_sample['MonthlyCharge']}\n",
    "NumOfProducts: {test_sample['NumOfProducts']}\n",
    "HasInternetService: {test_sample['HasInternetService']}\n",
    "IsActiveMember: {test_sample['IsActiveMember']}\n",
    "EstimatedMonthlyUsage: {test_sample['EstimatedMonthlyUsage']}\n",
    "\n",
    "Return ONLY the digit 0 or 1, representing the Exited status. Do not include any other text or formatting.\n",
    "\"\"\"\n",
    "    return user_prompt_text\n"
   ]
  },
  {
   "cell_type": "code",
   "execution_count": null,
   "id": "913f4078",
   "metadata": {
    "execution": {
     "iopub.execute_input": "2025-05-27T11:38:33.778475Z",
     "iopub.status.busy": "2025-05-27T11:38:33.778279Z",
     "iopub.status.idle": "2025-05-27T11:38:33.783275Z",
     "shell.execute_reply": "2025-05-27T11:38:33.782697Z"
    },
    "papermill": {
     "duration": 0.011598,
     "end_time": "2025-05-27T11:38:33.784459",
     "exception": false,
     "start_time": "2025-05-27T11:38:33.772861",
     "status": "completed"
    },
    "tags": []
   },
   "outputs": [],
   "source": [
    "def predict_churn(test_sample):\n",
    "    \"\"\"\n",
    "    Dự đoán nhãn Exited cho một mẫu test sử dụng Together AI API.\n",
    "    Chỉ trả về số nguyên 0 hoặc 1.\n",
    "    Sử dụng cả system prompt và user prompt.\n",
    "    \"\"\"\n",
    "    try:\n",
    "        # Tạo user prompt từ mẫu test\n",
    "        user_prompt = create_user_prompt(test_sample)\n",
    "        \n",
    "        # Gửi yêu cầu tới Together AI API với cả system và user messages\n",
    "        response = client.chat.completions.create(\n",
    "            model=TOGETHER_MODEL,\n",
    "            messages=[\n",
    "                {\"role\": \"system\", \"content\": SYSTEM_PROMPT}, # System prompt\n",
    "                {\"role\": \"user\", \"content\": user_prompt}     # User prompt\n",
    "            ],\n",
    "            # Bạn có thể thêm các tham số khác ở đây như temperature, max_tokens, v.v.\n",
    "            # Ví dụ: temperature=0.0, max_tokens=1 (để khuyến khích chỉ trả về 1 ký tự)\n",
    "            temperature=0.0, # Giảm tính ngẫu nhiên để mô hình tuân thủ định dạng chặt chẽ hơn\n",
    "            max_tokens=1     # Giới hạn phản hồi chỉ là 1 token (0 hoặc 1)\n",
    "        )\n",
    "        \n",
    "        # Lấy văn bản phản hồi thô và loại bỏ khoảng trắng thừa\n",
    "        result_text = response.choices[0].message.content.strip()\n",
    "        \n",
    "        # Thêm độ trễ để tuân thủ giới hạn tần suất (rate limits) của Together AI (60 RPM)\n",
    "        time.sleep(1) \n",
    "        \n",
    "        try:\n",
    "            # Cố gắng chuyển đổi trực tiếp phản hồi thành số nguyên\n",
    "            prediction = int(result_text)\n",
    "            # Kiểm tra xem giá trị có phải là 0 hoặc 1 không\n",
    "            if prediction in [0, 1]:\n",
    "                return prediction\n",
    "            else:\n",
    "                print(f\"Giá trị dự đoán không hợp lệ cho CustomerID {test_sample['CustomerID']}: Expected 0 or 1, got {prediction}\")\n",
    "                return -1\n",
    "        except ValueError:\n",
    "            # Xử lý lỗi nếu phản hồi không phải là một số nguyên hợp lệ\n",
    "            print(f\"Lỗi chuyển đổi phản hồi thành số nguyên cho CustomerID {test_sample['CustomerID']}: '{result_text}' không phải là số nguyên hợp lệ.\")\n",
    "            return -1\n",
    "\n",
    "    except Exception as e:\n",
    "        # Bắt các lỗi chung khác trong quá trình gọi API hoặc xử lý\n",
    "        print(f\"Lỗi khi dự đoán cho CustomerID {test_sample['CustomerID']}: {e}\")\n",
    "        \n",
    "        # Thêm độ trễ khi xảy ra lỗi để tránh gửi yêu cầu quá nhanh sau lỗi\n",
    "        time.sleep(5) \n",
    "        return -1\n"
   ]
  },
  {
   "cell_type": "code",
   "execution_count": null,
   "id": "22bf341f",
   "metadata": {
    "execution": {
     "iopub.execute_input": "2025-05-27T11:38:33.795277Z",
     "iopub.status.busy": "2025-05-27T11:38:33.795029Z",
     "iopub.status.idle": "2025-05-27T11:38:33.809848Z",
     "shell.execute_reply": "2025-05-27T11:38:33.809048Z"
    },
    "papermill": {
     "duration": 0.021673,
     "end_time": "2025-05-27T11:38:33.811082",
     "exception": false,
     "start_time": "2025-05-27T11:38:33.789409",
     "status": "completed"
    },
    "tags": []
   },
   "outputs": [],
   "source": [
    "# Đọc dữ liệu test từ file CSV\n",
    "test_data = pd.read_csv('/kaggle/input/public-telecom-customer-churn-analysis-and-prediction/test_data.csv')"
   ]
  },
  {
   "cell_type": "code",
   "execution_count": null,
   "id": "fcb3e343",
   "metadata": {
    "execution": {
     "iopub.execute_input": "2025-05-27T11:38:33.821807Z",
     "iopub.status.busy": "2025-05-27T11:38:33.821592Z",
     "iopub.status.idle": "2025-05-27T15:52:09.494327Z",
     "shell.execute_reply": "2025-05-27T15:52:09.493627Z"
    },
    "papermill": {
     "duration": 15215.67956,
     "end_time": "2025-05-27T15:52:09.495768",
     "exception": false,
     "start_time": "2025-05-27T11:38:33.816208",
     "status": "completed"
    },
    "tags": []
   },
   "outputs": [],
   "source": [
    "# Dự đoán cho từng mẫu test\n",
    "y_test_pred = []\n",
    "for index, test_sample in test_data.iterrows():\n",
    "    prediction = predict_churn(test_sample)\n",
    "    y_test_pred.append(prediction)\n",
    "    print(f\"Predicted Exited for CustomerID {test_sample['CustomerID']}: {prediction}\")\n",
    "    # Thêm khoảng nghỉ để tránh vượt giới hạn API\n",
    "    time.sleep(1)"
   ]
  },
  {
   "cell_type": "markdown",
   "id": "4b13f5c1",
   "metadata": {
    "papermill": {
     "duration": 0.086669,
     "end_time": "2025-05-27T15:52:09.672043",
     "exception": false,
     "start_time": "2025-05-27T15:52:09.585374",
     "status": "completed"
    },
    "tags": []
   },
   "source": [
    "# Submission"
   ]
  },
  {
   "cell_type": "code",
   "execution_count": null,
   "id": "e5ce4eee",
   "metadata": {
    "execution": {
     "iopub.execute_input": "2025-05-27T15:52:09.848137Z",
     "iopub.status.busy": "2025-05-27T15:52:09.847821Z",
     "iopub.status.idle": "2025-05-27T15:52:09.862478Z",
     "shell.execute_reply": "2025-05-27T15:52:09.861666Z"
    },
    "papermill": {
     "duration": 0.103018,
     "end_time": "2025-05-27T15:52:09.863675",
     "exception": false,
     "start_time": "2025-05-27T15:52:09.760657",
     "status": "completed"
    },
    "tags": []
   },
   "outputs": [],
   "source": [
    "# Tạo DataFrame kết quả\n",
    "result_df = pd.DataFrame({\n",
    "    'CustomerID': test_data['CustomerID'],\n",
    "    'Exited': y_test_pred\n",
    "})\n",
    "\n",
    "# Lưu kết quả vào file CSV\n",
    "result_df.to_csv('churn_predictions.csv', index=False)\n",
    "print(\"Predictions saved to churn_predictions.csv\")\n",
    "\n",
    "# Kiểm tra kết quả\n",
    "print(result_df.head())"
   ]
  },
  {
   "cell_type": "code",
   "execution_count": null,
   "id": "86245d70",
   "metadata": {
    "papermill": {
     "duration": 0.086637,
     "end_time": "2025-05-27T15:52:10.036271",
     "exception": false,
     "start_time": "2025-05-27T15:52:09.949634",
     "status": "completed"
    },
    "tags": []
   },
   "outputs": [],
   "source": []
  }
 ],
 "metadata": {
  "kaggle": {
   "accelerator": "nvidiaTeslaT4",
   "dataSources": [
    {
     "databundleVersionId": 8258007,
     "sourceId": 75201,
     "sourceType": "competition"
    }
   ],
   "dockerImageVersionId": 30918,
   "isGpuEnabled": true,
   "isInternetEnabled": true,
   "language": "python",
   "sourceType": "notebook"
  },
  "kernelspec": {
   "display_name": "Python 3",
   "language": "python",
   "name": "python3"
  },
  "language_info": {
   "codemirror_mode": {
    "name": "ipython",
    "version": 3
   },
   "file_extension": ".py",
   "mimetype": "text/x-python",
   "name": "python",
   "nbconvert_exporter": "python",
   "pygments_lexer": "ipython3",
   "version": "3.10.12"
  },
  "papermill": {
   "default_parameters": {},
   "duration": 15252.063767,
   "end_time": "2025-05-27T15:52:10.658428",
   "environment_variables": {},
   "exception": null,
   "input_path": "__notebook__.ipynb",
   "output_path": "__notebook__.ipynb",
   "parameters": {},
   "start_time": "2025-05-27T11:37:58.594661",
   "version": "2.6.0"
  }
 },
 "nbformat": 4,
 "nbformat_minor": 5
}
